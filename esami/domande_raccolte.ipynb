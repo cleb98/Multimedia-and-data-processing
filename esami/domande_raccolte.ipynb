{
 "cells": [
  {
   "cell_type": "markdown",
   "metadata": {},
   "source": [
    "why this method doesnt work?\n",
    "\t\n",
    "\t```cpp\n",
    "\t\n",
    "\tusing quadruples = std::array<uint8_t, 4>;\n",
    "\tvector<quadruples> ctable;\n",
    "\tnum_colors = pow(2, bitppx);\n",
    "\tfor (int i = 0; i < num_colors; i++)\n",
    "\t{\n",
    "\t\trawread(is, ctable[i]);\n",
    "\t}\n",
    "\t\n",
    "\t```"
   ]
  },
  {
   "cell_type": "markdown",
   "metadata": {},
   "source": [
    "# problema su prova d'esame latest;\n",
    "non riesco a decodificare anche se penso di aver fatto bene il codice,\n",
    "# problema su lzvn, \n",
    "non ottengo la giusta match_dist in quei casi in cui non c'èe match_dist da decodificare e usa l'ultimo stored match_dist\n"
   ]
  }
 ],
 "metadata": {
  "language_info": {
   "name": "python"
  }
 },
 "nbformat": 4,
 "nbformat_minor": 2
}
