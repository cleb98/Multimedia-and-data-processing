{
 "cells": [
  {
   "cell_type": "markdown",
   "metadata": {},
   "source": [
    "why this method doesnt work?\n",
    "\t\n",
    "\t```cpp\n",
    "\t\n",
    "\tusing quadruples = std::array<uint8_t, 4>;\n",
    "\tvector<quadruples> ctable;\n",
    "\tnum_colors = pow(2, bitppx);\n",
    "\tfor (int i = 0; i < num_colors; i++)\n",
    "\t{\n",
    "\t\trawread(is, ctable[i]);\n",
    "\t}\n",
    "\t\n",
    "\t```"
   ]
  }
 ],
 "metadata": {
  "language_info": {
   "name": "python"
  }
 },
 "nbformat": 4,
 "nbformat_minor": 2
}
